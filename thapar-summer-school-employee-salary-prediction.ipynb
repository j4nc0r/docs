{
 "cells": [
  {
   "cell_type": "markdown",
   "id": "39f0246e",
   "metadata": {
    "papermill": {
     "duration": 0.006965,
     "end_time": "2023-07-20T06:55:41.675043",
     "exception": false,
     "start_time": "2023-07-20T06:55:41.668078",
     "status": "completed"
    },
    "tags": []
   },
   "source": [
    "# Salary Prediction\n",
    "\n",
    "This notebook presents a method for predicting salaries based on features like age, years of experience, and department, among others. We'll train two models, XGBoost and LightGBM, and create an ensemble by averaging their predictions."
   ]
  },
  {
   "cell_type": "code",
   "execution_count": 1,
   "id": "edff7bce",
   "metadata": {
    "execution": {
     "iopub.execute_input": "2023-07-20T06:55:41.692148Z",
     "iopub.status.busy": "2023-07-20T06:55:41.690793Z",
     "iopub.status.idle": "2023-07-20T06:55:45.103199Z",
     "shell.execute_reply": "2023-07-20T06:55:45.101929Z"
    },
    "papermill": {
     "duration": 3.424115,
     "end_time": "2023-07-20T06:55:45.106103",
     "exception": false,
     "start_time": "2023-07-20T06:55:41.681988",
     "status": "completed"
    },
    "tags": []
   },
   "outputs": [
    {
     "name": "stderr",
     "output_type": "stream",
     "text": [
      "/opt/conda/lib/python3.10/site-packages/scipy/__init__.py:146: UserWarning: A NumPy version >=1.16.5 and <1.23.0 is required for this version of SciPy (detected version 1.23.5\n",
      "  warnings.warn(f\"A NumPy version >={np_minversion} and <{np_maxversion}\"\n"
     ]
    }
   ],
   "source": [
    "import pandas as pd\n",
    "from sklearn.model_selection import train_test_split\n",
    "from sklearn.preprocessing import OneHotEncoder\n",
    "from sklearn.metrics import mean_absolute_error\n",
    "from sklearn.ensemble import StackingRegressor\n",
    "from sklearn.linear_model import LinearRegression\n",
    "from xgboost import XGBRegressor\n",
    "from lightgbm import LGBMRegressor\n",
    "import numpy as np"
   ]
  },
  {
   "cell_type": "markdown",
   "id": "94c33b73",
   "metadata": {
    "papermill": {
     "duration": 0.005276,
     "end_time": "2023-07-20T06:55:45.117355",
     "exception": false,
     "start_time": "2023-07-20T06:55:45.112079",
     "status": "completed"
    },
    "tags": []
   },
   "source": [
    "## Data Loading\n",
    "\n",
    "First, let's load the training and test datasets."
   ]
  },
  {
   "cell_type": "code",
   "execution_count": 2,
   "id": "c1bfbc15",
   "metadata": {
    "execution": {
     "iopub.execute_input": "2023-07-20T06:55:45.130031Z",
     "iopub.status.busy": "2023-07-20T06:55:45.129621Z",
     "iopub.status.idle": "2023-07-20T06:55:45.547735Z",
     "shell.execute_reply": "2023-07-20T06:55:45.546654Z"
    },
    "papermill": {
     "duration": 0.427573,
     "end_time": "2023-07-20T06:55:45.550396",
     "exception": false,
     "start_time": "2023-07-20T06:55:45.122823",
     "status": "completed"
    },
    "tags": []
   },
   "outputs": [],
   "source": [
    "# Load the datasets\n",
    "train_data = pd.read_csv('/kaggle/input/thapar-summer-school-employee-salary-prediction/train.csv')\n",
    "test_data = pd.read_csv('/kaggle/input/thapar-summer-school-employee-salary-prediction/test.csv')\n"
   ]
  },
  {
   "cell_type": "markdown",
   "id": "1c8e1467",
   "metadata": {
    "papermill": {
     "duration": 0.005447,
     "end_time": "2023-07-20T06:55:45.561449",
     "exception": false,
     "start_time": "2023-07-20T06:55:45.556002",
     "status": "completed"
    },
    "tags": []
   },
   "source": [
    "## Data Preprocessing\n",
    "\n",
    "We split the training data into training and validation sets. We then separate the target variable (salary) from the features. Categorical variables are one-hot encoded.\n"
   ]
  },
  {
   "cell_type": "code",
   "execution_count": 3,
   "id": "13219101",
   "metadata": {
    "execution": {
     "iopub.execute_input": "2023-07-20T06:55:45.576274Z",
     "iopub.status.busy": "2023-07-20T06:55:45.575009Z",
     "iopub.status.idle": "2023-07-20T06:55:45.851019Z",
     "shell.execute_reply": "2023-07-20T06:55:45.850043Z"
    },
    "papermill": {
     "duration": 0.285711,
     "end_time": "2023-07-20T06:55:45.853798",
     "exception": false,
     "start_time": "2023-07-20T06:55:45.568087",
     "status": "completed"
    },
    "tags": []
   },
   "outputs": [
    {
     "name": "stderr",
     "output_type": "stream",
     "text": [
      "/opt/conda/lib/python3.10/site-packages/sklearn/preprocessing/_encoders.py:868: FutureWarning: `sparse` was renamed to `sparse_output` in version 1.2 and will be removed in 1.4. `sparse_output` is ignored unless you leave `sparse` to its default value.\n",
      "  warnings.warn(\n"
     ]
    }
   ],
   "source": [
    "# Split the training data into training and validation sets\n",
    "train_data, validation_data = train_test_split(train_data, test_size=0.2, random_state=42)\n",
    "\n",
    "# Separate the target variable (salary) from the features\n",
    "train_features = train_data.drop('salary', axis=1)\n",
    "train_target = train_data['salary']\n",
    "validation_features = validation_data.drop('salary', axis=1)\n",
    "validation_target = validation_data['salary']\n",
    "\n",
    "# One-hot encode the categorical variables\n",
    "encoder = OneHotEncoder(drop='first', sparse=False)\n",
    "encoder.fit(train_features[['company', 'department']])\n",
    "\n",
    "train_encoded_features = encoder.transform(train_features[['company', 'department']])\n",
    "validation_encoded_features = encoder.transform(validation_features[['company', 'department']])\n",
    "test_encoded_features = encoder.transform(test_data[['company', 'department']])\n",
    "\n",
    "# Get the feature names\n",
    "feature_names = encoder.categories_[0][1:].tolist() + encoder.categories_[1][1:].tolist()\n",
    "\n",
    "# Convert the encoded features to DataFrames\n",
    "train_encoded_df = pd.DataFrame(train_encoded_features, columns=feature_names)\n",
    "validation_encoded_df = pd.DataFrame(validation_encoded_features, columns=feature_names)\n",
    "test_encoded_df = pd.DataFrame(test_encoded_features, columns=feature_names)\n",
    "\n",
    "# Reset the indices\n",
    "train_features.reset_index(drop=True, inplace=True)\n",
    "validation_features.reset_index(drop=True, inplace=True)\n",
    "test_data.reset_index(drop=True, inplace=True)\n",
    "\n",
    "# Add the encoded features to the original DataFrames\n",
    "train_features = pd.concat([train_features.drop(['company', 'department'], axis=1), train_encoded_df], axis=1)\n",
    "validation_features = pd.concat([validation_features.drop(['company', 'department'], axis=1), validation_encoded_df], axis=1)\n",
    "test_features = pd.concat([test_data.drop(['company', 'department'], axis=1), test_encoded_df], axis=1)"
   ]
  },
  {
   "cell_type": "code",
   "execution_count": 4,
   "id": "bf56b6e0",
   "metadata": {
    "execution": {
     "iopub.execute_input": "2023-07-20T06:55:45.867155Z",
     "iopub.status.busy": "2023-07-20T06:55:45.866300Z",
     "iopub.status.idle": "2023-07-20T06:55:45.871624Z",
     "shell.execute_reply": "2023-07-20T06:55:45.870680Z"
    },
    "papermill": {
     "duration": 0.014453,
     "end_time": "2023-07-20T06:55:45.873917",
     "exception": false,
     "start_time": "2023-07-20T06:55:45.859464",
     "status": "completed"
    },
    "tags": []
   },
   "outputs": [],
   "source": [
    "# Initialize the base models\n",
    "base_models = [\n",
    "    ('xgb', XGBRegressor(random_state=42)),\n",
    "    ('lgbm', LGBMRegressor(random_state=42))\n",
    "]"
   ]
  },
  {
   "cell_type": "code",
   "execution_count": 5,
   "id": "92beee6c",
   "metadata": {
    "execution": {
     "iopub.execute_input": "2023-07-20T06:55:45.888483Z",
     "iopub.status.busy": "2023-07-20T06:55:45.888048Z",
     "iopub.status.idle": "2023-07-20T06:55:45.892396Z",
     "shell.execute_reply": "2023-07-20T06:55:45.891341Z"
    },
    "papermill": {
     "duration": 0.013733,
     "end_time": "2023-07-20T06:55:45.894882",
     "exception": false,
     "start_time": "2023-07-20T06:55:45.881149",
     "status": "completed"
    },
    "tags": []
   },
   "outputs": [],
   "source": [
    "# Initialize the meta-model\n",
    "meta_model = LinearRegression()\n"
   ]
  },
  {
   "cell_type": "code",
   "execution_count": 6,
   "id": "544e2b96",
   "metadata": {
    "execution": {
     "iopub.execute_input": "2023-07-20T06:55:45.908293Z",
     "iopub.status.busy": "2023-07-20T06:55:45.907531Z",
     "iopub.status.idle": "2023-07-20T06:55:45.911983Z",
     "shell.execute_reply": "2023-07-20T06:55:45.911192Z"
    },
    "papermill": {
     "duration": 0.013639,
     "end_time": "2023-07-20T06:55:45.914180",
     "exception": false,
     "start_time": "2023-07-20T06:55:45.900541",
     "status": "completed"
    },
    "tags": []
   },
   "outputs": [],
   "source": [
    "# Initialize the stacking regressor\n",
    "stacking_reg = StackingRegressor(estimators=base_models, final_estimator=meta_model, cv=5)\n"
   ]
  },
  {
   "cell_type": "code",
   "execution_count": 7,
   "id": "72fba3b5",
   "metadata": {
    "execution": {
     "iopub.execute_input": "2023-07-20T06:55:45.927404Z",
     "iopub.status.busy": "2023-07-20T06:55:45.926946Z",
     "iopub.status.idle": "2023-07-20T06:57:03.468838Z",
     "shell.execute_reply": "2023-07-20T06:57:03.467750Z"
    },
    "papermill": {
     "duration": 77.558556,
     "end_time": "2023-07-20T06:57:03.478391",
     "exception": false,
     "start_time": "2023-07-20T06:55:45.919835",
     "status": "completed"
    },
    "tags": []
   },
   "outputs": [
    {
     "data": {
      "text/html": [
       "<style>#sk-container-id-1 {color: black;background-color: white;}#sk-container-id-1 pre{padding: 0;}#sk-container-id-1 div.sk-toggleable {background-color: white;}#sk-container-id-1 label.sk-toggleable__label {cursor: pointer;display: block;width: 100%;margin-bottom: 0;padding: 0.3em;box-sizing: border-box;text-align: center;}#sk-container-id-1 label.sk-toggleable__label-arrow:before {content: \"▸\";float: left;margin-right: 0.25em;color: #696969;}#sk-container-id-1 label.sk-toggleable__label-arrow:hover:before {color: black;}#sk-container-id-1 div.sk-estimator:hover label.sk-toggleable__label-arrow:before {color: black;}#sk-container-id-1 div.sk-toggleable__content {max-height: 0;max-width: 0;overflow: hidden;text-align: left;background-color: #f0f8ff;}#sk-container-id-1 div.sk-toggleable__content pre {margin: 0.2em;color: black;border-radius: 0.25em;background-color: #f0f8ff;}#sk-container-id-1 input.sk-toggleable__control:checked~div.sk-toggleable__content {max-height: 200px;max-width: 100%;overflow: auto;}#sk-container-id-1 input.sk-toggleable__control:checked~label.sk-toggleable__label-arrow:before {content: \"▾\";}#sk-container-id-1 div.sk-estimator input.sk-toggleable__control:checked~label.sk-toggleable__label {background-color: #d4ebff;}#sk-container-id-1 div.sk-label input.sk-toggleable__control:checked~label.sk-toggleable__label {background-color: #d4ebff;}#sk-container-id-1 input.sk-hidden--visually {border: 0;clip: rect(1px 1px 1px 1px);clip: rect(1px, 1px, 1px, 1px);height: 1px;margin: -1px;overflow: hidden;padding: 0;position: absolute;width: 1px;}#sk-container-id-1 div.sk-estimator {font-family: monospace;background-color: #f0f8ff;border: 1px dotted black;border-radius: 0.25em;box-sizing: border-box;margin-bottom: 0.5em;}#sk-container-id-1 div.sk-estimator:hover {background-color: #d4ebff;}#sk-container-id-1 div.sk-parallel-item::after {content: \"\";width: 100%;border-bottom: 1px solid gray;flex-grow: 1;}#sk-container-id-1 div.sk-label:hover label.sk-toggleable__label {background-color: #d4ebff;}#sk-container-id-1 div.sk-serial::before {content: \"\";position: absolute;border-left: 1px solid gray;box-sizing: border-box;top: 0;bottom: 0;left: 50%;z-index: 0;}#sk-container-id-1 div.sk-serial {display: flex;flex-direction: column;align-items: center;background-color: white;padding-right: 0.2em;padding-left: 0.2em;position: relative;}#sk-container-id-1 div.sk-item {position: relative;z-index: 1;}#sk-container-id-1 div.sk-parallel {display: flex;align-items: stretch;justify-content: center;background-color: white;position: relative;}#sk-container-id-1 div.sk-item::before, #sk-container-id-1 div.sk-parallel-item::before {content: \"\";position: absolute;border-left: 1px solid gray;box-sizing: border-box;top: 0;bottom: 0;left: 50%;z-index: -1;}#sk-container-id-1 div.sk-parallel-item {display: flex;flex-direction: column;z-index: 1;position: relative;background-color: white;}#sk-container-id-1 div.sk-parallel-item:first-child::after {align-self: flex-end;width: 50%;}#sk-container-id-1 div.sk-parallel-item:last-child::after {align-self: flex-start;width: 50%;}#sk-container-id-1 div.sk-parallel-item:only-child::after {width: 0;}#sk-container-id-1 div.sk-dashed-wrapped {border: 1px dashed gray;margin: 0 0.4em 0.5em 0.4em;box-sizing: border-box;padding-bottom: 0.4em;background-color: white;}#sk-container-id-1 div.sk-label label {font-family: monospace;font-weight: bold;display: inline-block;line-height: 1.2em;}#sk-container-id-1 div.sk-label-container {text-align: center;}#sk-container-id-1 div.sk-container {/* jupyter's `normalize.less` sets `[hidden] { display: none; }` but bootstrap.min.css set `[hidden] { display: none !important; }` so we also need the `!important` here to be able to override the default hidden behavior on the sphinx rendered scikit-learn.org. See: https://github.com/scikit-learn/scikit-learn/issues/21755 */display: inline-block !important;position: relative;}#sk-container-id-1 div.sk-text-repr-fallback {display: none;}</style><div id=\"sk-container-id-1\" class=\"sk-top-container\"><div class=\"sk-text-repr-fallback\"><pre>StackingRegressor(cv=5,\n",
       "                  estimators=[(&#x27;xgb&#x27;,\n",
       "                               XGBRegressor(base_score=None, booster=None,\n",
       "                                            callbacks=None,\n",
       "                                            colsample_bylevel=None,\n",
       "                                            colsample_bynode=None,\n",
       "                                            colsample_bytree=None,\n",
       "                                            early_stopping_rounds=None,\n",
       "                                            enable_categorical=False,\n",
       "                                            eval_metric=None,\n",
       "                                            feature_types=None, gamma=None,\n",
       "                                            gpu_id=None, grow_policy=None,\n",
       "                                            importance_type=None,\n",
       "                                            interaction_constraints=None,\n",
       "                                            learning_rate=None, max_bin=None,\n",
       "                                            max_cat_threshold=None,\n",
       "                                            max_cat_to_onehot=None,\n",
       "                                            max_delta_step=None, max_depth=None,\n",
       "                                            max_leaves=None,\n",
       "                                            min_child_weight=None, missing=nan,\n",
       "                                            monotone_constraints=None,\n",
       "                                            n_estimators=100, n_jobs=None,\n",
       "                                            num_parallel_tree=None,\n",
       "                                            predictor=None, random_state=42, ...)),\n",
       "                              (&#x27;lgbm&#x27;, LGBMRegressor(random_state=42))],\n",
       "                  final_estimator=LinearRegression())</pre><b>In a Jupyter environment, please rerun this cell to show the HTML representation or trust the notebook. <br />On GitHub, the HTML representation is unable to render, please try loading this page with nbviewer.org.</b></div><div class=\"sk-container\" hidden><div class=\"sk-item sk-dashed-wrapped\"><div class=\"sk-label-container\"><div class=\"sk-label sk-toggleable\"><input class=\"sk-toggleable__control sk-hidden--visually\" id=\"sk-estimator-id-1\" type=\"checkbox\" ><label for=\"sk-estimator-id-1\" class=\"sk-toggleable__label sk-toggleable__label-arrow\">StackingRegressor</label><div class=\"sk-toggleable__content\"><pre>StackingRegressor(cv=5,\n",
       "                  estimators=[(&#x27;xgb&#x27;,\n",
       "                               XGBRegressor(base_score=None, booster=None,\n",
       "                                            callbacks=None,\n",
       "                                            colsample_bylevel=None,\n",
       "                                            colsample_bynode=None,\n",
       "                                            colsample_bytree=None,\n",
       "                                            early_stopping_rounds=None,\n",
       "                                            enable_categorical=False,\n",
       "                                            eval_metric=None,\n",
       "                                            feature_types=None, gamma=None,\n",
       "                                            gpu_id=None, grow_policy=None,\n",
       "                                            importance_type=None,\n",
       "                                            interaction_constraints=None,\n",
       "                                            learning_rate=None, max_bin=None,\n",
       "                                            max_cat_threshold=None,\n",
       "                                            max_cat_to_onehot=None,\n",
       "                                            max_delta_step=None, max_depth=None,\n",
       "                                            max_leaves=None,\n",
       "                                            min_child_weight=None, missing=nan,\n",
       "                                            monotone_constraints=None,\n",
       "                                            n_estimators=100, n_jobs=None,\n",
       "                                            num_parallel_tree=None,\n",
       "                                            predictor=None, random_state=42, ...)),\n",
       "                              (&#x27;lgbm&#x27;, LGBMRegressor(random_state=42))],\n",
       "                  final_estimator=LinearRegression())</pre></div></div></div><div class=\"sk-serial\"><div class=\"sk-item\"><div class=\"sk-parallel\"><div class=\"sk-parallel-item\"><div class=\"sk-item\"><div class=\"sk-label-container\"><div class=\"sk-label sk-toggleable\"><label>xgb</label></div></div><div class=\"sk-serial\"><div class=\"sk-item\"><div class=\"sk-estimator sk-toggleable\"><input class=\"sk-toggleable__control sk-hidden--visually\" id=\"sk-estimator-id-2\" type=\"checkbox\" ><label for=\"sk-estimator-id-2\" class=\"sk-toggleable__label sk-toggleable__label-arrow\">XGBRegressor</label><div class=\"sk-toggleable__content\"><pre>XGBRegressor(base_score=None, booster=None, callbacks=None,\n",
       "             colsample_bylevel=None, colsample_bynode=None,\n",
       "             colsample_bytree=None, early_stopping_rounds=None,\n",
       "             enable_categorical=False, eval_metric=None, feature_types=None,\n",
       "             gamma=None, gpu_id=None, grow_policy=None, importance_type=None,\n",
       "             interaction_constraints=None, learning_rate=None, max_bin=None,\n",
       "             max_cat_threshold=None, max_cat_to_onehot=None,\n",
       "             max_delta_step=None, max_depth=None, max_leaves=None,\n",
       "             min_child_weight=None, missing=nan, monotone_constraints=None,\n",
       "             n_estimators=100, n_jobs=None, num_parallel_tree=None,\n",
       "             predictor=None, random_state=42, ...)</pre></div></div></div></div></div></div><div class=\"sk-parallel-item\"><div class=\"sk-item\"><div class=\"sk-label-container\"><div class=\"sk-label sk-toggleable\"><label>lgbm</label></div></div><div class=\"sk-serial\"><div class=\"sk-item\"><div class=\"sk-estimator sk-toggleable\"><input class=\"sk-toggleable__control sk-hidden--visually\" id=\"sk-estimator-id-3\" type=\"checkbox\" ><label for=\"sk-estimator-id-3\" class=\"sk-toggleable__label sk-toggleable__label-arrow\">LGBMRegressor</label><div class=\"sk-toggleable__content\"><pre>LGBMRegressor(random_state=42)</pre></div></div></div></div></div></div></div></div><div class=\"sk-item\"><div class=\"sk-parallel\"><div class=\"sk-parallel-item\"><div class=\"sk-item\"><div class=\"sk-label-container\"><div class=\"sk-label sk-toggleable\"><label>final_estimator</label></div></div><div class=\"sk-serial\"><div class=\"sk-item\"><div class=\"sk-estimator sk-toggleable\"><input class=\"sk-toggleable__control sk-hidden--visually\" id=\"sk-estimator-id-4\" type=\"checkbox\" ><label for=\"sk-estimator-id-4\" class=\"sk-toggleable__label sk-toggleable__label-arrow\">LinearRegression</label><div class=\"sk-toggleable__content\"><pre>LinearRegression()</pre></div></div></div></div></div></div></div></div></div></div></div></div>"
      ],
      "text/plain": [
       "StackingRegressor(cv=5,\n",
       "                  estimators=[('xgb',\n",
       "                               XGBRegressor(base_score=None, booster=None,\n",
       "                                            callbacks=None,\n",
       "                                            colsample_bylevel=None,\n",
       "                                            colsample_bynode=None,\n",
       "                                            colsample_bytree=None,\n",
       "                                            early_stopping_rounds=None,\n",
       "                                            enable_categorical=False,\n",
       "                                            eval_metric=None,\n",
       "                                            feature_types=None, gamma=None,\n",
       "                                            gpu_id=None, grow_policy=None,\n",
       "                                            importance_type=None,\n",
       "                                            interaction_constraints=None,\n",
       "                                            learning_rate=None, max_bin=None,\n",
       "                                            max_cat_threshold=None,\n",
       "                                            max_cat_to_onehot=None,\n",
       "                                            max_delta_step=None, max_depth=None,\n",
       "                                            max_leaves=None,\n",
       "                                            min_child_weight=None, missing=nan,\n",
       "                                            monotone_constraints=None,\n",
       "                                            n_estimators=100, n_jobs=None,\n",
       "                                            num_parallel_tree=None,\n",
       "                                            predictor=None, random_state=42, ...)),\n",
       "                              ('lgbm', LGBMRegressor(random_state=42))],\n",
       "                  final_estimator=LinearRegression())"
      ]
     },
     "execution_count": 7,
     "metadata": {},
     "output_type": "execute_result"
    }
   ],
   "source": [
    "# Train the stacking regressor\n",
    "stacking_reg.fit(train_features, train_target)"
   ]
  },
  {
   "cell_type": "code",
   "execution_count": 8,
   "id": "9dc59e65",
   "metadata": {
    "execution": {
     "iopub.execute_input": "2023-07-20T06:57:03.493057Z",
     "iopub.status.busy": "2023-07-20T06:57:03.492262Z",
     "iopub.status.idle": "2023-07-20T06:57:03.613393Z",
     "shell.execute_reply": "2023-07-20T06:57:03.611777Z"
    },
    "papermill": {
     "duration": 0.133371,
     "end_time": "2023-07-20T06:57:03.617972",
     "exception": false,
     "start_time": "2023-07-20T06:57:03.484601",
     "status": "completed"
    },
    "tags": []
   },
   "outputs": [],
   "source": [
    "# Make predictions on the validation set\n",
    "validation_pred_stacking = stacking_reg.predict(validation_features)"
   ]
  },
  {
   "cell_type": "code",
   "execution_count": 9,
   "id": "36f3e90a",
   "metadata": {
    "execution": {
     "iopub.execute_input": "2023-07-20T06:57:03.645953Z",
     "iopub.status.busy": "2023-07-20T06:57:03.645239Z",
     "iopub.status.idle": "2023-07-20T06:57:03.655468Z",
     "shell.execute_reply": "2023-07-20T06:57:03.654021Z"
    },
    "papermill": {
     "duration": 0.031406,
     "end_time": "2023-07-20T06:57:03.662108",
     "exception": false,
     "start_time": "2023-07-20T06:57:03.630702",
     "status": "completed"
    },
    "tags": []
   },
   "outputs": [
    {
     "name": "stdout",
     "output_type": "stream",
     "text": [
      "MAE of ensemble: 11732.863309331533\n"
     ]
    }
   ],
   "source": [
    "# Calculate the MAE of the ensemble predictions\n",
    "mae_stacking = mean_absolute_error(validation_target, validation_pred_stacking)\n",
    "\n",
    "print(f'MAE of ensemble: {mae_stacking}')"
   ]
  },
  {
   "cell_type": "code",
   "execution_count": 10,
   "id": "d49652f4",
   "metadata": {
    "execution": {
     "iopub.execute_input": "2023-07-20T06:57:03.690599Z",
     "iopub.status.busy": "2023-07-20T06:57:03.689885Z",
     "iopub.status.idle": "2023-07-20T06:57:03.975711Z",
     "shell.execute_reply": "2023-07-20T06:57:03.974098Z"
    },
    "papermill": {
     "duration": 0.304986,
     "end_time": "2023-07-20T06:57:03.980212",
     "exception": false,
     "start_time": "2023-07-20T06:57:03.675226",
     "status": "completed"
    },
    "tags": []
   },
   "outputs": [],
   "source": [
    "# Make predictions on the test set\n",
    "test_pred_stacking = stacking_reg.predict(test_features)"
   ]
  },
  {
   "cell_type": "code",
   "execution_count": 11,
   "id": "65ac61e3",
   "metadata": {
    "execution": {
     "iopub.execute_input": "2023-07-20T06:57:04.008724Z",
     "iopub.status.busy": "2023-07-20T06:57:04.007966Z",
     "iopub.status.idle": "2023-07-20T06:57:04.021767Z",
     "shell.execute_reply": "2023-07-20T06:57:04.020193Z"
    },
    "papermill": {
     "duration": 0.033728,
     "end_time": "2023-07-20T06:57:04.026776",
     "exception": false,
     "start_time": "2023-07-20T06:57:03.993048",
     "status": "completed"
    },
    "tags": []
   },
   "outputs": [],
   "source": [
    "# Prepare the submission file\n",
    "submission = pd.DataFrame({'id': test_data['id'], 'salary': test_pred_stacking})\n"
   ]
  },
  {
   "cell_type": "code",
   "execution_count": 12,
   "id": "8f1ac177",
   "metadata": {
    "execution": {
     "iopub.execute_input": "2023-07-20T06:57:04.056949Z",
     "iopub.status.busy": "2023-07-20T06:57:04.056245Z",
     "iopub.status.idle": "2023-07-20T06:57:04.288784Z",
     "shell.execute_reply": "2023-07-20T06:57:04.287874Z"
    },
    "papermill": {
     "duration": 0.250855,
     "end_time": "2023-07-20T06:57:04.291719",
     "exception": false,
     "start_time": "2023-07-20T06:57:04.040864",
     "status": "completed"
    },
    "tags": []
   },
   "outputs": [],
   "source": [
    "# Save the submission file\n",
    "submission.to_csv('/kaggle/working/submission.csv', index=False)"
   ]
  }
 ],
 "metadata": {
  "kernelspec": {
   "display_name": "Python 3",
   "language": "python",
   "name": "python3"
  },
  "language_info": {
   "codemirror_mode": {
    "name": "ipython",
    "version": 3
   },
   "file_extension": ".py",
   "mimetype": "text/x-python",
   "name": "python",
   "nbconvert_exporter": "python",
   "pygments_lexer": "ipython3",
   "version": "3.10.12"
  },
  "papermill": {
   "default_parameters": {},
   "duration": 96.05222,
   "end_time": "2023-07-20T06:57:05.421776",
   "environment_variables": {},
   "exception": null,
   "input_path": "__notebook__.ipynb",
   "output_path": "__notebook__.ipynb",
   "parameters": {},
   "start_time": "2023-07-20T06:55:29.369556",
   "version": "2.4.0"
  }
 },
 "nbformat": 4,
 "nbformat_minor": 5
}
