{
 "cells": [
  {
   "cell_type": "code",
   "execution_count": 1,
   "id": "f2d86a39",
   "metadata": {
    "execution": {
     "iopub.execute_input": "2023-07-19T18:37:04.953770Z",
     "iopub.status.busy": "2023-07-19T18:37:04.953387Z",
     "iopub.status.idle": "2023-07-19T18:37:19.137520Z",
     "shell.execute_reply": "2023-07-19T18:37:19.136560Z"
    },
    "papermill": {
     "duration": 14.19271,
     "end_time": "2023-07-19T18:37:19.140034",
     "exception": false,
     "start_time": "2023-07-19T18:37:04.947324",
     "status": "completed"
    },
    "tags": []
   },
   "outputs": [
    {
     "name": "stderr",
     "output_type": "stream",
     "text": [
      "/opt/conda/lib/python3.10/site-packages/scipy/__init__.py:146: UserWarning: A NumPy version >=1.16.5 and <1.23.0 is required for this version of SciPy (detected version 1.23.5\n",
      "  warnings.warn(f\"A NumPy version >={np_minversion} and <{np_maxversion}\"\n",
      "/opt/conda/lib/python3.10/site-packages/tensorflow_io/python/ops/__init__.py:98: UserWarning: unable to load libtensorflow_io_plugins.so: unable to open file: libtensorflow_io_plugins.so, from paths: ['/opt/conda/lib/python3.10/site-packages/tensorflow_io/python/ops/libtensorflow_io_plugins.so']\n",
      "caused by: ['/opt/conda/lib/python3.10/site-packages/tensorflow_io/python/ops/libtensorflow_io_plugins.so: undefined symbol: _ZN3tsl6StatusC1EN10tensorflow5error4CodeESt17basic_string_viewIcSt11char_traitsIcEENS_14SourceLocationE']\n",
      "  warnings.warn(f\"unable to load libtensorflow_io_plugins.so: {e}\")\n",
      "/opt/conda/lib/python3.10/site-packages/tensorflow_io/python/ops/__init__.py:104: UserWarning: file system plugins are not loaded: unable to open file: libtensorflow_io.so, from paths: ['/opt/conda/lib/python3.10/site-packages/tensorflow_io/python/ops/libtensorflow_io.so']\n",
      "caused by: ['/opt/conda/lib/python3.10/site-packages/tensorflow_io/python/ops/libtensorflow_io.so: undefined symbol: _ZTVN10tensorflow13GcsFileSystemE']\n",
      "  warnings.warn(f\"file system plugins are not loaded: {e}\")\n"
     ]
    }
   ],
   "source": [
    "#!pip install transformers pandas torch sklearn\n",
    "\n",
    "import torch\n",
    "from torch.utils.data import TensorDataset, DataLoader, RandomSampler, SequentialSampler\n",
    "from transformers import BertTokenizer, BertForSequenceClassification, AdamW\n",
    "from sklearn.model_selection import train_test_split\n",
    "from sklearn.preprocessing import LabelEncoder\n",
    "import pandas as pd\n",
    "import numpy as np\n",
    "\n",
    "\n",
    "\n"
   ]
  },
  {
   "cell_type": "code",
   "execution_count": 2,
   "id": "305c32d2",
   "metadata": {
    "execution": {
     "iopub.execute_input": "2023-07-19T18:37:19.150298Z",
     "iopub.status.busy": "2023-07-19T18:37:19.149699Z",
     "iopub.status.idle": "2023-07-19T18:37:19.182587Z",
     "shell.execute_reply": "2023-07-19T18:37:19.181696Z"
    },
    "papermill": {
     "duration": 0.040156,
     "end_time": "2023-07-19T18:37:19.184683",
     "exception": false,
     "start_time": "2023-07-19T18:37:19.144527",
     "status": "completed"
    },
    "tags": []
   },
   "outputs": [],
   "source": [
    "# Load the datasets\n",
    "train_data = pd.read_csv('/kaggle/input/kaggle-llm-science-exam/train.csv')\n",
    "test_data = pd.read_csv('/kaggle/input/kaggle-llm-science-exam/test.csv')\n",
    "\n"
   ]
  },
  {
   "cell_type": "code",
   "execution_count": 3,
   "id": "fe5b0b79",
   "metadata": {
    "execution": {
     "iopub.execute_input": "2023-07-19T18:37:19.196534Z",
     "iopub.status.busy": "2023-07-19T18:37:19.196269Z",
     "iopub.status.idle": "2023-07-19T18:37:19.214044Z",
     "shell.execute_reply": "2023-07-19T18:37:19.213168Z"
    },
    "papermill": {
     "duration": 0.026982,
     "end_time": "2023-07-19T18:37:19.215940",
     "exception": false,
     "start_time": "2023-07-19T18:37:19.188958",
     "status": "completed"
    },
    "tags": []
   },
   "outputs": [],
   "source": [
    "# Preprocess the text data\n",
    "train_data['text'] = train_data['prompt'] + ' ' + train_data['A'] + ' ' + train_data['B'] + ' ' + train_data['C'] + ' ' + train_data['D'] + ' ' + train_data['E']\n",
    "test_data['text'] = test_data['prompt'] + ' ' + test_data['A'] + ' ' + test_data['B'] + ' ' + test_data['C'] + ' ' + test_data['D'] + ' ' + test_data['E']\n",
    "\n",
    "# Label encoding for the target variable\n",
    "le = LabelEncoder()\n",
    "train_data['label'] = le.fit_transform(train_data['answer'])\n",
    "\n"
   ]
  },
  {
   "cell_type": "code",
   "execution_count": 4,
   "id": "6cf17810",
   "metadata": {
    "execution": {
     "iopub.execute_input": "2023-07-19T18:37:19.226192Z",
     "iopub.status.busy": "2023-07-19T18:37:19.225354Z",
     "iopub.status.idle": "2023-07-19T18:37:34.634540Z",
     "shell.execute_reply": "2023-07-19T18:37:34.633556Z"
    },
    "papermill": {
     "duration": 15.416479,
     "end_time": "2023-07-19T18:37:34.636721",
     "exception": false,
     "start_time": "2023-07-19T18:37:19.220242",
     "status": "completed"
    },
    "tags": []
   },
   "outputs": [
    {
     "name": "stderr",
     "output_type": "stream",
     "text": [
      "Some weights of the model checkpoint at /kaggle/input/huggingface-bert/bert-large-uncased were not used when initializing BertForSequenceClassification: ['cls.predictions.transform.LayerNorm.bias', 'cls.predictions.transform.dense.bias', 'cls.predictions.bias', 'cls.predictions.decoder.weight', 'cls.seq_relationship.bias', 'cls.predictions.transform.dense.weight', 'cls.seq_relationship.weight', 'cls.predictions.transform.LayerNorm.weight']\n",
      "- This IS expected if you are initializing BertForSequenceClassification from the checkpoint of a model trained on another task or with another architecture (e.g. initializing a BertForSequenceClassification model from a BertForPreTraining model).\n",
      "- This IS NOT expected if you are initializing BertForSequenceClassification from the checkpoint of a model that you expect to be exactly identical (initializing a BertForSequenceClassification model from a BertForSequenceClassification model).\n",
      "Some weights of BertForSequenceClassification were not initialized from the model checkpoint at /kaggle/input/huggingface-bert/bert-large-uncased and are newly initialized: ['classifier.bias', 'classifier.weight']\n",
      "You should probably TRAIN this model on a down-stream task to be able to use it for predictions and inference.\n"
     ]
    }
   ],
   "source": [
    "# Initialize the BERT tokenizer and model\n",
    "model_dir = '/kaggle/input/huggingface-bert/bert-large-uncased'\n",
    "\n",
    "#tokenizer = BertTokenizer.from_pretrained('bert-base-uncased')\n",
    "tokenizer = BertTokenizer.from_pretrained(model_dir)\n",
    "model = BertForSequenceClassification.from_pretrained(model_dir, num_labels=5)\n",
    "\n"
   ]
  },
  {
   "cell_type": "code",
   "execution_count": 5,
   "id": "26ece15e",
   "metadata": {
    "execution": {
     "iopub.execute_input": "2023-07-19T18:37:34.647008Z",
     "iopub.status.busy": "2023-07-19T18:37:34.646693Z",
     "iopub.status.idle": "2023-07-19T18:37:37.091536Z",
     "shell.execute_reply": "2023-07-19T18:37:37.090609Z"
    },
    "papermill": {
     "duration": 2.452571,
     "end_time": "2023-07-19T18:37:37.093877",
     "exception": false,
     "start_time": "2023-07-19T18:37:34.641306",
     "status": "completed"
    },
    "tags": []
   },
   "outputs": [],
   "source": [
    "# Tokenize the text data and convert to PyTorch tensors\n",
    "train_encodings = tokenizer(list(train_data['text']), truncation=True, padding=True, max_length=512)\n",
    "train_inputs = torch.tensor(train_encodings['input_ids'])\n",
    "train_masks = torch.tensor(train_encodings['attention_mask'])\n",
    "train_labels = torch.tensor(list(train_data['label']))\n",
    "test_encodings = tokenizer(list(test_data['text']), truncation=True, padding=True, max_length=512)\n",
    "test_inputs = torch.tensor(test_encodings['input_ids'])\n",
    "test_masks = torch.tensor(test_encodings['attention_mask'])\n",
    "\n"
   ]
  },
  {
   "cell_type": "code",
   "execution_count": 6,
   "id": "7a0a4eaa",
   "metadata": {
    "execution": {
     "iopub.execute_input": "2023-07-19T18:37:37.103968Z",
     "iopub.status.busy": "2023-07-19T18:37:37.103666Z",
     "iopub.status.idle": "2023-07-19T18:37:37.107625Z",
     "shell.execute_reply": "2023-07-19T18:37:37.106749Z"
    },
    "papermill": {
     "duration": 0.01117,
     "end_time": "2023-07-19T18:37:37.109590",
     "exception": false,
     "start_time": "2023-07-19T18:37:37.098420",
     "status": "completed"
    },
    "tags": []
   },
   "outputs": [],
   "source": [
    "# Create a DataLoader for the training and test data\n",
    "#train_data = TensorDataset(train_inputs, train_masks, train_labels)\n",
    "#train_sampler = RandomSampler(train_data)\n",
    "#train_dataloader = DataLoader(train_data, sampler=train_sampler, batch_size=8)\n",
    "#test_data = TensorDataset(test_inputs, test_masks)\n",
    "#test_sampler = SequentialSampler(test_data)\n",
    "#test_dataloader = DataLoader(test_data, sampler=test_sampler, batch_size=8)"
   ]
  },
  {
   "cell_type": "code",
   "execution_count": 7,
   "id": "daa0e386",
   "metadata": {
    "execution": {
     "iopub.execute_input": "2023-07-19T18:37:37.119248Z",
     "iopub.status.busy": "2023-07-19T18:37:37.118991Z",
     "iopub.status.idle": "2023-07-19T18:37:37.124721Z",
     "shell.execute_reply": "2023-07-19T18:37:37.123895Z"
    },
    "papermill": {
     "duration": 0.012805,
     "end_time": "2023-07-19T18:37:37.126606",
     "exception": false,
     "start_time": "2023-07-19T18:37:37.113801",
     "status": "completed"
    },
    "tags": []
   },
   "outputs": [],
   "source": [
    "# Create a DataLoader for the training and test data\n",
    "train_dataset = TensorDataset(train_inputs, train_masks, train_labels)\n",
    "train_sampler = RandomSampler(train_dataset)\n",
    "train_dataloader = DataLoader(train_dataset, sampler=train_sampler, batch_size=4)\n",
    "\n",
    "test_dataset = TensorDataset(test_inputs, test_masks)\n",
    "test_sampler = SequentialSampler(test_dataset)\n",
    "test_dataloader = DataLoader(test_dataset, sampler=test_sampler, batch_size=4)\n"
   ]
  },
  {
   "cell_type": "code",
   "execution_count": 8,
   "id": "1b383445",
   "metadata": {
    "execution": {
     "iopub.execute_input": "2023-07-19T18:37:37.136176Z",
     "iopub.status.busy": "2023-07-19T18:37:37.135903Z",
     "iopub.status.idle": "2023-07-19T18:37:37.148467Z",
     "shell.execute_reply": "2023-07-19T18:37:37.147574Z"
    },
    "papermill": {
     "duration": 0.019668,
     "end_time": "2023-07-19T18:37:37.150535",
     "exception": false,
     "start_time": "2023-07-19T18:37:37.130867",
     "status": "completed"
    },
    "tags": []
   },
   "outputs": [
    {
     "name": "stderr",
     "output_type": "stream",
     "text": [
      "/opt/conda/lib/python3.10/site-packages/transformers/optimization.py:411: FutureWarning: This implementation of AdamW is deprecated and will be removed in a future version. Use the PyTorch implementation torch.optim.AdamW instead, or set `no_deprecation_warning=True` to disable this warning\n",
      "  warnings.warn(\n"
     ]
    }
   ],
   "source": [
    "# Specify the optimizer\n",
    "optimizer = AdamW(model.parameters(), lr=1e-5)  # Decrease from 2e-5 to 1e-5"
   ]
  },
  {
   "cell_type": "code",
   "execution_count": 9,
   "id": "e3a80cea",
   "metadata": {
    "execution": {
     "iopub.execute_input": "2023-07-19T18:37:37.160680Z",
     "iopub.status.busy": "2023-07-19T18:37:37.159981Z",
     "iopub.status.idle": "2023-07-19T18:37:37.231128Z",
     "shell.execute_reply": "2023-07-19T18:37:37.229518Z"
    },
    "papermill": {
     "duration": 0.078385,
     "end_time": "2023-07-19T18:37:37.233236",
     "exception": false,
     "start_time": "2023-07-19T18:37:37.154851",
     "status": "completed"
    },
    "tags": []
   },
   "outputs": [
    {
     "name": "stdout",
     "output_type": "stream",
     "text": [
      "cuda\n"
     ]
    }
   ],
   "source": [
    "# Specify the device\n",
    "device = torch.device('cuda') if torch.cuda.is_available() else torch.device('cpu')\n",
    "print(device)"
   ]
  },
  {
   "cell_type": "code",
   "execution_count": 10,
   "id": "797a53b5",
   "metadata": {
    "execution": {
     "iopub.execute_input": "2023-07-19T18:37:37.243839Z",
     "iopub.status.busy": "2023-07-19T18:37:37.243560Z",
     "iopub.status.idle": "2023-07-19T18:37:42.606729Z",
     "shell.execute_reply": "2023-07-19T18:37:42.605770Z"
    },
    "papermill": {
     "duration": 5.370655,
     "end_time": "2023-07-19T18:37:42.608833",
     "exception": false,
     "start_time": "2023-07-19T18:37:37.238178",
     "status": "completed"
    },
    "tags": []
   },
   "outputs": [
    {
     "data": {
      "text/plain": [
       "BertForSequenceClassification(\n",
       "  (bert): BertModel(\n",
       "    (embeddings): BertEmbeddings(\n",
       "      (word_embeddings): Embedding(30522, 1024, padding_idx=0)\n",
       "      (position_embeddings): Embedding(512, 1024)\n",
       "      (token_type_embeddings): Embedding(2, 1024)\n",
       "      (LayerNorm): LayerNorm((1024,), eps=1e-12, elementwise_affine=True)\n",
       "      (dropout): Dropout(p=0.1, inplace=False)\n",
       "    )\n",
       "    (encoder): BertEncoder(\n",
       "      (layer): ModuleList(\n",
       "        (0-23): 24 x BertLayer(\n",
       "          (attention): BertAttention(\n",
       "            (self): BertSelfAttention(\n",
       "              (query): Linear(in_features=1024, out_features=1024, bias=True)\n",
       "              (key): Linear(in_features=1024, out_features=1024, bias=True)\n",
       "              (value): Linear(in_features=1024, out_features=1024, bias=True)\n",
       "              (dropout): Dropout(p=0.1, inplace=False)\n",
       "            )\n",
       "            (output): BertSelfOutput(\n",
       "              (dense): Linear(in_features=1024, out_features=1024, bias=True)\n",
       "              (LayerNorm): LayerNorm((1024,), eps=1e-12, elementwise_affine=True)\n",
       "              (dropout): Dropout(p=0.1, inplace=False)\n",
       "            )\n",
       "          )\n",
       "          (intermediate): BertIntermediate(\n",
       "            (dense): Linear(in_features=1024, out_features=4096, bias=True)\n",
       "            (intermediate_act_fn): GELUActivation()\n",
       "          )\n",
       "          (output): BertOutput(\n",
       "            (dense): Linear(in_features=4096, out_features=1024, bias=True)\n",
       "            (LayerNorm): LayerNorm((1024,), eps=1e-12, elementwise_affine=True)\n",
       "            (dropout): Dropout(p=0.1, inplace=False)\n",
       "          )\n",
       "        )\n",
       "      )\n",
       "    )\n",
       "    (pooler): BertPooler(\n",
       "      (dense): Linear(in_features=1024, out_features=1024, bias=True)\n",
       "      (activation): Tanh()\n",
       "    )\n",
       "  )\n",
       "  (dropout): Dropout(p=0.1, inplace=False)\n",
       "  (classifier): Linear(in_features=1024, out_features=5, bias=True)\n",
       ")"
      ]
     },
     "execution_count": 10,
     "metadata": {},
     "output_type": "execute_result"
    }
   ],
   "source": [
    "# Move the model to the device\n",
    "model.to(device)"
   ]
  },
  {
   "cell_type": "code",
   "execution_count": 11,
   "id": "00c3c062",
   "metadata": {
    "execution": {
     "iopub.execute_input": "2023-07-19T18:37:42.621292Z",
     "iopub.status.busy": "2023-07-19T18:37:42.619379Z",
     "iopub.status.idle": "2023-07-19T18:39:38.399120Z",
     "shell.execute_reply": "2023-07-19T18:39:38.398114Z"
    },
    "papermill": {
     "duration": 115.787981,
     "end_time": "2023-07-19T18:39:38.401616",
     "exception": false,
     "start_time": "2023-07-19T18:37:42.613635",
     "status": "completed"
    },
    "tags": []
   },
   "outputs": [],
   "source": [
    "# Training loop\n",
    "model.train()\n",
    "for epoch in range(3):  \n",
    "    for batch in train_dataloader:\n",
    "        b_input_ids, b_input_mask, b_labels = batch\n",
    "        \n",
    "        # Move the batch tensors to the same device as the model\n",
    "        b_input_ids = b_input_ids.to(device)\n",
    "        b_input_mask = b_input_mask.to(device)\n",
    "        b_labels = b_labels.to(device)\n",
    "        \n",
    "        optimizer.zero_grad()\n",
    "        outputs = model(b_input_ids, token_type_ids=None, attention_mask=b_input_mask, labels=b_labels)\n",
    "        loss = outputs[0]\n",
    "        loss.backward()\n",
    "        optimizer.step()"
   ]
  },
  {
   "cell_type": "code",
   "execution_count": 12,
   "id": "0f675860",
   "metadata": {
    "execution": {
     "iopub.execute_input": "2023-07-19T18:39:38.412658Z",
     "iopub.status.busy": "2023-07-19T18:39:38.412365Z",
     "iopub.status.idle": "2023-07-19T18:39:38.416568Z",
     "shell.execute_reply": "2023-07-19T18:39:38.415505Z"
    },
    "papermill": {
     "duration": 0.012241,
     "end_time": "2023-07-19T18:39:38.418919",
     "exception": false,
     "start_time": "2023-07-19T18:39:38.406678",
     "status": "completed"
    },
    "tags": []
   },
   "outputs": [],
   "source": [
    "# Move the model back to CPU for inference\n",
    "#model.to('cpu')"
   ]
  },
  {
   "cell_type": "code",
   "execution_count": 13,
   "id": "cbffda6d",
   "metadata": {
    "execution": {
     "iopub.execute_input": "2023-07-19T18:39:38.429524Z",
     "iopub.status.busy": "2023-07-19T18:39:38.429268Z",
     "iopub.status.idle": "2023-07-19T18:39:50.541958Z",
     "shell.execute_reply": "2023-07-19T18:39:50.540999Z"
    },
    "papermill": {
     "duration": 12.121354,
     "end_time": "2023-07-19T18:39:50.544972",
     "exception": false,
     "start_time": "2023-07-19T18:39:38.423618",
     "status": "completed"
    },
    "tags": []
   },
   "outputs": [],
   "source": [
    "# Evaluation\n",
    "model.eval()\n",
    "predictions = []\n",
    "for batch in test_dataloader:\n",
    "    b_input_ids, b_input_mask = batch\n",
    "    \n",
    "    # Move the batch tensors to the same device as the model\n",
    "    b_input_ids = b_input_ids.to(device)\n",
    "    b_input_mask = b_input_mask.to(device)\n",
    "    \n",
    "    with torch.no_grad():\n",
    "        outputs = model(b_input_ids, token_type_ids=None, attention_mask=b_input_mask)\n",
    "    logits = outputs[0]\n",
    "    logits = logits.detach().cpu().numpy()\n",
    "    predictions.append(logits)\n",
    "\n",
    "# Prepare the submission dataframe\n",
    "test_predictions = [item for sublist in predictions for item in sublist]\n",
    "test_predictions = le.inverse_transform(np.argmax(test_predictions, axis=1))\n",
    "submission = pd.DataFrame({\n",
    "    'id': test_data['id'],\n",
    "    'prediction': test_predictions\n",
    "})\n",
    "\n",
    "# Save the submission dataframe as a CSV file\n",
    "submission.to_csv('/kaggle/working/submission.csv', index=False)"
   ]
  }
 ],
 "metadata": {
  "kernelspec": {
   "display_name": "Python 3",
   "language": "python",
   "name": "python3"
  },
  "language_info": {
   "codemirror_mode": {
    "name": "ipython",
    "version": 3
   },
   "file_extension": ".py",
   "mimetype": "text/x-python",
   "name": "python",
   "nbconvert_exporter": "python",
   "pygments_lexer": "ipython3",
   "version": "3.10.12"
  },
  "papermill": {
   "default_parameters": {},
   "duration": 178.784842,
   "end_time": "2023-07-19T18:39:53.811071",
   "environment_variables": {},
   "exception": null,
   "input_path": "__notebook__.ipynb",
   "output_path": "__notebook__.ipynb",
   "parameters": {},
   "start_time": "2023-07-19T18:36:55.026229",
   "version": "2.4.0"
  }
 },
 "nbformat": 4,
 "nbformat_minor": 5
}
