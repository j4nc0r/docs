{
 "cells": [
  {
   "cell_type": "code",
   "execution_count": 1,
   "id": "e4dcaeb9",
   "metadata": {
    "execution": {
     "iopub.execute_input": "2023-07-19T17:57:57.369730Z",
     "iopub.status.busy": "2023-07-19T17:57:57.369278Z",
     "iopub.status.idle": "2023-07-19T17:58:13.164460Z",
     "shell.execute_reply": "2023-07-19T17:58:13.163217Z"
    },
    "papermill": {
     "duration": 15.805438,
     "end_time": "2023-07-19T17:58:13.167758",
     "exception": false,
     "start_time": "2023-07-19T17:57:57.362320",
     "status": "completed"
    },
    "tags": []
   },
   "outputs": [
    {
     "name": "stderr",
     "output_type": "stream",
     "text": [
      "/opt/conda/lib/python3.10/site-packages/scipy/__init__.py:146: UserWarning: A NumPy version >=1.16.5 and <1.23.0 is required for this version of SciPy (detected version 1.23.5\n",
      "  warnings.warn(f\"A NumPy version >={np_minversion} and <{np_maxversion}\"\n",
      "/opt/conda/lib/python3.10/site-packages/tensorflow_io/python/ops/__init__.py:98: UserWarning: unable to load libtensorflow_io_plugins.so: unable to open file: libtensorflow_io_plugins.so, from paths: ['/opt/conda/lib/python3.10/site-packages/tensorflow_io/python/ops/libtensorflow_io_plugins.so']\n",
      "caused by: ['/opt/conda/lib/python3.10/site-packages/tensorflow_io/python/ops/libtensorflow_io_plugins.so: undefined symbol: _ZN3tsl6StatusC1EN10tensorflow5error4CodeESt17basic_string_viewIcSt11char_traitsIcEENS_14SourceLocationE']\n",
      "  warnings.warn(f\"unable to load libtensorflow_io_plugins.so: {e}\")\n",
      "/opt/conda/lib/python3.10/site-packages/tensorflow_io/python/ops/__init__.py:104: UserWarning: file system plugins are not loaded: unable to open file: libtensorflow_io.so, from paths: ['/opt/conda/lib/python3.10/site-packages/tensorflow_io/python/ops/libtensorflow_io.so']\n",
      "caused by: ['/opt/conda/lib/python3.10/site-packages/tensorflow_io/python/ops/libtensorflow_io.so: undefined symbol: _ZTVN10tensorflow13GcsFileSystemE']\n",
      "  warnings.warn(f\"file system plugins are not loaded: {e}\")\n"
     ]
    }
   ],
   "source": [
    "#!pip install transformers pandas torch sklearn\n",
    "\n",
    "import torch\n",
    "from torch.utils.data import TensorDataset, DataLoader, RandomSampler, SequentialSampler\n",
    "from transformers import BertTokenizer, BertForSequenceClassification, AdamW\n",
    "from sklearn.model_selection import train_test_split\n",
    "from sklearn.preprocessing import LabelEncoder\n",
    "import pandas as pd\n",
    "import numpy as np\n",
    "\n",
    "\n",
    "\n"
   ]
  },
  {
   "cell_type": "code",
   "execution_count": 2,
   "id": "d5fd1f1d",
   "metadata": {
    "execution": {
     "iopub.execute_input": "2023-07-19T17:58:13.180370Z",
     "iopub.status.busy": "2023-07-19T17:58:13.179455Z",
     "iopub.status.idle": "2023-07-19T17:58:13.212298Z",
     "shell.execute_reply": "2023-07-19T17:58:13.211090Z"
    },
    "papermill": {
     "duration": 0.041579,
     "end_time": "2023-07-19T17:58:13.214973",
     "exception": false,
     "start_time": "2023-07-19T17:58:13.173394",
     "status": "completed"
    },
    "tags": []
   },
   "outputs": [],
   "source": [
    "# Load the datasets\n",
    "train_data = pd.read_csv('/kaggle/input/kaggle-llm-science-exam/train.csv')\n",
    "test_data = pd.read_csv('/kaggle/input/kaggle-llm-science-exam/test.csv')\n",
    "\n"
   ]
  },
  {
   "cell_type": "code",
   "execution_count": 3,
   "id": "32baf910",
   "metadata": {
    "execution": {
     "iopub.execute_input": "2023-07-19T17:58:13.226958Z",
     "iopub.status.busy": "2023-07-19T17:58:13.225954Z",
     "iopub.status.idle": "2023-07-19T17:58:13.246153Z",
     "shell.execute_reply": "2023-07-19T17:58:13.245087Z"
    },
    "papermill": {
     "duration": 0.029243,
     "end_time": "2023-07-19T17:58:13.249334",
     "exception": false,
     "start_time": "2023-07-19T17:58:13.220091",
     "status": "completed"
    },
    "tags": []
   },
   "outputs": [],
   "source": [
    "# Preprocess the text data\n",
    "train_data['text'] = train_data['prompt'] + ' ' + train_data['A'] + ' ' + train_data['B'] + ' ' + train_data['C'] + ' ' + train_data['D'] + ' ' + train_data['E']\n",
    "test_data['text'] = test_data['prompt'] + ' ' + test_data['A'] + ' ' + test_data['B'] + ' ' + test_data['C'] + ' ' + test_data['D'] + ' ' + test_data['E']\n",
    "\n",
    "# Label encoding for the target variable\n",
    "le = LabelEncoder()\n",
    "train_data['label'] = le.fit_transform(train_data['answer'])\n",
    "\n"
   ]
  },
  {
   "cell_type": "code",
   "execution_count": 4,
   "id": "ddb2f25f",
   "metadata": {
    "execution": {
     "iopub.execute_input": "2023-07-19T17:58:13.260423Z",
     "iopub.status.busy": "2023-07-19T17:58:13.260049Z",
     "iopub.status.idle": "2023-07-19T17:58:18.931978Z",
     "shell.execute_reply": "2023-07-19T17:58:18.930763Z"
    },
    "papermill": {
     "duration": 5.680394,
     "end_time": "2023-07-19T17:58:18.934691",
     "exception": false,
     "start_time": "2023-07-19T17:58:13.254297",
     "status": "completed"
    },
    "tags": []
   },
   "outputs": [
    {
     "name": "stderr",
     "output_type": "stream",
     "text": [
      "Some weights of the model checkpoint at /kaggle/input/huggingface-bert/bert-base-uncased were not used when initializing BertForSequenceClassification: ['cls.predictions.transform.dense.weight', 'cls.seq_relationship.weight', 'cls.predictions.transform.dense.bias', 'cls.predictions.decoder.weight', 'cls.seq_relationship.bias', 'cls.predictions.transform.LayerNorm.weight', 'cls.predictions.transform.LayerNorm.bias', 'cls.predictions.bias']\n",
      "- This IS expected if you are initializing BertForSequenceClassification from the checkpoint of a model trained on another task or with another architecture (e.g. initializing a BertForSequenceClassification model from a BertForPreTraining model).\n",
      "- This IS NOT expected if you are initializing BertForSequenceClassification from the checkpoint of a model that you expect to be exactly identical (initializing a BertForSequenceClassification model from a BertForSequenceClassification model).\n",
      "Some weights of BertForSequenceClassification were not initialized from the model checkpoint at /kaggle/input/huggingface-bert/bert-base-uncased and are newly initialized: ['classifier.weight', 'classifier.bias']\n",
      "You should probably TRAIN this model on a down-stream task to be able to use it for predictions and inference.\n"
     ]
    }
   ],
   "source": [
    "# Initialize the BERT tokenizer and model\n",
    "model_dir = '/kaggle/input/huggingface-bert/bert-base-uncased'\n",
    "\n",
    "#tokenizer = BertTokenizer.from_pretrained('bert-base-uncased')\n",
    "tokenizer = BertTokenizer.from_pretrained(model_dir)\n",
    "model = BertForSequenceClassification.from_pretrained(model_dir, num_labels=5)\n",
    "\n"
   ]
  },
  {
   "cell_type": "code",
   "execution_count": 5,
   "id": "849dbdd4",
   "metadata": {
    "execution": {
     "iopub.execute_input": "2023-07-19T17:58:18.946733Z",
     "iopub.status.busy": "2023-07-19T17:58:18.946386Z",
     "iopub.status.idle": "2023-07-19T17:58:22.259960Z",
     "shell.execute_reply": "2023-07-19T17:58:22.258897Z"
    },
    "papermill": {
     "duration": 3.322949,
     "end_time": "2023-07-19T17:58:22.262683",
     "exception": false,
     "start_time": "2023-07-19T17:58:18.939734",
     "status": "completed"
    },
    "tags": []
   },
   "outputs": [],
   "source": [
    "# Tokenize the text data and convert to PyTorch tensors\n",
    "train_encodings = tokenizer(list(train_data['text']), truncation=True, padding=True, max_length=512)\n",
    "train_inputs = torch.tensor(train_encodings['input_ids'])\n",
    "train_masks = torch.tensor(train_encodings['attention_mask'])\n",
    "train_labels = torch.tensor(list(train_data['label']))\n",
    "test_encodings = tokenizer(list(test_data['text']), truncation=True, padding=True, max_length=512)\n",
    "test_inputs = torch.tensor(test_encodings['input_ids'])\n",
    "test_masks = torch.tensor(test_encodings['attention_mask'])\n",
    "\n"
   ]
  },
  {
   "cell_type": "code",
   "execution_count": 6,
   "id": "996b6c3b",
   "metadata": {
    "execution": {
     "iopub.execute_input": "2023-07-19T17:58:22.274573Z",
     "iopub.status.busy": "2023-07-19T17:58:22.273891Z",
     "iopub.status.idle": "2023-07-19T17:58:22.278742Z",
     "shell.execute_reply": "2023-07-19T17:58:22.277554Z"
    },
    "papermill": {
     "duration": 0.013991,
     "end_time": "2023-07-19T17:58:22.281773",
     "exception": false,
     "start_time": "2023-07-19T17:58:22.267782",
     "status": "completed"
    },
    "tags": []
   },
   "outputs": [],
   "source": [
    "# Create a DataLoader for the training and test data\n",
    "#train_data = TensorDataset(train_inputs, train_masks, train_labels)\n",
    "#train_sampler = RandomSampler(train_data)\n",
    "#train_dataloader = DataLoader(train_data, sampler=train_sampler, batch_size=8)\n",
    "#test_data = TensorDataset(test_inputs, test_masks)\n",
    "#test_sampler = SequentialSampler(test_data)\n",
    "#test_dataloader = DataLoader(test_data, sampler=test_sampler, batch_size=8)"
   ]
  },
  {
   "cell_type": "code",
   "execution_count": 7,
   "id": "9f361477",
   "metadata": {
    "execution": {
     "iopub.execute_input": "2023-07-19T17:58:22.293081Z",
     "iopub.status.busy": "2023-07-19T17:58:22.292746Z",
     "iopub.status.idle": "2023-07-19T17:58:22.298624Z",
     "shell.execute_reply": "2023-07-19T17:58:22.297629Z"
    },
    "papermill": {
     "duration": 0.014152,
     "end_time": "2023-07-19T17:58:22.300839",
     "exception": false,
     "start_time": "2023-07-19T17:58:22.286687",
     "status": "completed"
    },
    "tags": []
   },
   "outputs": [],
   "source": [
    "# Create a DataLoader for the training and test data\n",
    "train_dataset = TensorDataset(train_inputs, train_masks, train_labels)\n",
    "train_sampler = RandomSampler(train_dataset)\n",
    "train_dataloader = DataLoader(train_dataset, sampler=train_sampler, batch_size=8)\n",
    "\n",
    "test_dataset = TensorDataset(test_inputs, test_masks)\n",
    "test_sampler = SequentialSampler(test_dataset)\n",
    "test_dataloader = DataLoader(test_dataset, sampler=test_sampler, batch_size=8)\n"
   ]
  },
  {
   "cell_type": "code",
   "execution_count": 8,
   "id": "8cd6ac08",
   "metadata": {
    "execution": {
     "iopub.execute_input": "2023-07-19T17:58:22.311697Z",
     "iopub.status.busy": "2023-07-19T17:58:22.311413Z",
     "iopub.status.idle": "2023-07-19T17:58:22.321499Z",
     "shell.execute_reply": "2023-07-19T17:58:22.320355Z"
    },
    "papermill": {
     "duration": 0.018536,
     "end_time": "2023-07-19T17:58:22.324143",
     "exception": false,
     "start_time": "2023-07-19T17:58:22.305607",
     "status": "completed"
    },
    "tags": []
   },
   "outputs": [
    {
     "name": "stderr",
     "output_type": "stream",
     "text": [
      "/opt/conda/lib/python3.10/site-packages/transformers/optimization.py:411: FutureWarning: This implementation of AdamW is deprecated and will be removed in a future version. Use the PyTorch implementation torch.optim.AdamW instead, or set `no_deprecation_warning=True` to disable this warning\n",
      "  warnings.warn(\n"
     ]
    }
   ],
   "source": [
    "# Specify the optimizer\n",
    "optimizer = AdamW(model.parameters(), lr=1e-5)  # Decrease from 2e-5 to 1e-5"
   ]
  },
  {
   "cell_type": "code",
   "execution_count": 9,
   "id": "60b1e2bc",
   "metadata": {
    "execution": {
     "iopub.execute_input": "2023-07-19T17:58:22.334779Z",
     "iopub.status.busy": "2023-07-19T17:58:22.334493Z",
     "iopub.status.idle": "2023-07-19T17:58:22.412326Z",
     "shell.execute_reply": "2023-07-19T17:58:22.411251Z"
    },
    "papermill": {
     "duration": 0.085662,
     "end_time": "2023-07-19T17:58:22.414493",
     "exception": false,
     "start_time": "2023-07-19T17:58:22.328831",
     "status": "completed"
    },
    "tags": []
   },
   "outputs": [
    {
     "name": "stdout",
     "output_type": "stream",
     "text": [
      "cuda\n"
     ]
    }
   ],
   "source": [
    "# Specify the device\n",
    "device = torch.device('cuda') if torch.cuda.is_available() else torch.device('cpu')\n",
    "print(device)"
   ]
  },
  {
   "cell_type": "code",
   "execution_count": 10,
   "id": "539f120f",
   "metadata": {
    "execution": {
     "iopub.execute_input": "2023-07-19T17:58:22.425648Z",
     "iopub.status.busy": "2023-07-19T17:58:22.425339Z",
     "iopub.status.idle": "2023-07-19T17:58:28.132975Z",
     "shell.execute_reply": "2023-07-19T17:58:28.131971Z"
    },
    "papermill": {
     "duration": 5.715545,
     "end_time": "2023-07-19T17:58:28.135049",
     "exception": false,
     "start_time": "2023-07-19T17:58:22.419504",
     "status": "completed"
    },
    "tags": []
   },
   "outputs": [
    {
     "data": {
      "text/plain": [
       "BertForSequenceClassification(\n",
       "  (bert): BertModel(\n",
       "    (embeddings): BertEmbeddings(\n",
       "      (word_embeddings): Embedding(30522, 768, padding_idx=0)\n",
       "      (position_embeddings): Embedding(512, 768)\n",
       "      (token_type_embeddings): Embedding(2, 768)\n",
       "      (LayerNorm): LayerNorm((768,), eps=1e-12, elementwise_affine=True)\n",
       "      (dropout): Dropout(p=0.1, inplace=False)\n",
       "    )\n",
       "    (encoder): BertEncoder(\n",
       "      (layer): ModuleList(\n",
       "        (0-11): 12 x BertLayer(\n",
       "          (attention): BertAttention(\n",
       "            (self): BertSelfAttention(\n",
       "              (query): Linear(in_features=768, out_features=768, bias=True)\n",
       "              (key): Linear(in_features=768, out_features=768, bias=True)\n",
       "              (value): Linear(in_features=768, out_features=768, bias=True)\n",
       "              (dropout): Dropout(p=0.1, inplace=False)\n",
       "            )\n",
       "            (output): BertSelfOutput(\n",
       "              (dense): Linear(in_features=768, out_features=768, bias=True)\n",
       "              (LayerNorm): LayerNorm((768,), eps=1e-12, elementwise_affine=True)\n",
       "              (dropout): Dropout(p=0.1, inplace=False)\n",
       "            )\n",
       "          )\n",
       "          (intermediate): BertIntermediate(\n",
       "            (dense): Linear(in_features=768, out_features=3072, bias=True)\n",
       "            (intermediate_act_fn): GELUActivation()\n",
       "          )\n",
       "          (output): BertOutput(\n",
       "            (dense): Linear(in_features=3072, out_features=768, bias=True)\n",
       "            (LayerNorm): LayerNorm((768,), eps=1e-12, elementwise_affine=True)\n",
       "            (dropout): Dropout(p=0.1, inplace=False)\n",
       "          )\n",
       "        )\n",
       "      )\n",
       "    )\n",
       "    (pooler): BertPooler(\n",
       "      (dense): Linear(in_features=768, out_features=768, bias=True)\n",
       "      (activation): Tanh()\n",
       "    )\n",
       "  )\n",
       "  (dropout): Dropout(p=0.1, inplace=False)\n",
       "  (classifier): Linear(in_features=768, out_features=5, bias=True)\n",
       ")"
      ]
     },
     "execution_count": 10,
     "metadata": {},
     "output_type": "execute_result"
    }
   ],
   "source": [
    "# Move the model to the device\n",
    "model.to(device)"
   ]
  },
  {
   "cell_type": "code",
   "execution_count": 11,
   "id": "84bcb68a",
   "metadata": {
    "execution": {
     "iopub.execute_input": "2023-07-19T17:58:28.146774Z",
     "iopub.status.busy": "2023-07-19T17:58:28.146471Z",
     "iopub.status.idle": "2023-07-19T17:59:01.576205Z",
     "shell.execute_reply": "2023-07-19T17:59:01.575087Z"
    },
    "papermill": {
     "duration": 33.43873,
     "end_time": "2023-07-19T17:59:01.578846",
     "exception": false,
     "start_time": "2023-07-19T17:58:28.140116",
     "status": "completed"
    },
    "tags": []
   },
   "outputs": [],
   "source": [
    "# Training loop\n",
    "model.train()\n",
    "for epoch in range(3):  \n",
    "    for batch in train_dataloader:\n",
    "        b_input_ids, b_input_mask, b_labels = batch\n",
    "        \n",
    "        # Move the batch tensors to the same device as the model\n",
    "        b_input_ids = b_input_ids.to(device)\n",
    "        b_input_mask = b_input_mask.to(device)\n",
    "        b_labels = b_labels.to(device)\n",
    "        \n",
    "        optimizer.zero_grad()\n",
    "        outputs = model(b_input_ids, token_type_ids=None, attention_mask=b_input_mask, labels=b_labels)\n",
    "        loss = outputs[0]\n",
    "        loss.backward()\n",
    "        optimizer.step()"
   ]
  },
  {
   "cell_type": "code",
   "execution_count": 12,
   "id": "3fc6a759",
   "metadata": {
    "execution": {
     "iopub.execute_input": "2023-07-19T17:59:01.592262Z",
     "iopub.status.busy": "2023-07-19T17:59:01.591362Z",
     "iopub.status.idle": "2023-07-19T17:59:01.597681Z",
     "shell.execute_reply": "2023-07-19T17:59:01.596709Z"
    },
    "papermill": {
     "duration": 0.015497,
     "end_time": "2023-07-19T17:59:01.600153",
     "exception": false,
     "start_time": "2023-07-19T17:59:01.584656",
     "status": "completed"
    },
    "tags": []
   },
   "outputs": [],
   "source": [
    "# Move the model back to CPU for inference\n",
    "#model.to('cpu')"
   ]
  },
  {
   "cell_type": "code",
   "execution_count": 13,
   "id": "4eb56fa1",
   "metadata": {
    "execution": {
     "iopub.execute_input": "2023-07-19T17:59:01.612472Z",
     "iopub.status.busy": "2023-07-19T17:59:01.611841Z",
     "iopub.status.idle": "2023-07-19T17:59:04.954943Z",
     "shell.execute_reply": "2023-07-19T17:59:04.953764Z"
    },
    "papermill": {
     "duration": 3.35201,
     "end_time": "2023-07-19T17:59:04.957533",
     "exception": false,
     "start_time": "2023-07-19T17:59:01.605523",
     "status": "completed"
    },
    "tags": []
   },
   "outputs": [],
   "source": [
    "# Evaluation\n",
    "model.eval()\n",
    "predictions = []\n",
    "for batch in test_dataloader:\n",
    "    b_input_ids, b_input_mask = batch\n",
    "    \n",
    "    # Move the batch tensors to the same device as the model\n",
    "    b_input_ids = b_input_ids.to(device)\n",
    "    b_input_mask = b_input_mask.to(device)\n",
    "    \n",
    "    with torch.no_grad():\n",
    "        outputs = model(b_input_ids, token_type_ids=None, attention_mask=b_input_mask)\n",
    "    logits = outputs[0]\n",
    "    logits = logits.detach().cpu().numpy()\n",
    "    predictions.append(logits)\n",
    "\n",
    "# Prepare the submission dataframe\n",
    "test_predictions = [item for sublist in predictions for item in sublist]\n",
    "test_predictions = le.inverse_transform(np.argmax(test_predictions, axis=1))\n",
    "submission = pd.DataFrame({\n",
    "    'id': test_data['id'],\n",
    "    'prediction': test_predictions\n",
    "})\n",
    "\n",
    "# Save the submission dataframe as a CSV file\n",
    "submission.to_csv('/kaggle/working/submission.csv', index=False)"
   ]
  }
 ],
 "metadata": {
  "kernelspec": {
   "display_name": "Python 3",
   "language": "python",
   "name": "python3"
  },
  "language_info": {
   "codemirror_mode": {
    "name": "ipython",
    "version": 3
   },
   "file_extension": ".py",
   "mimetype": "text/x-python",
   "name": "python",
   "nbconvert_exporter": "python",
   "pygments_lexer": "ipython3",
   "version": "3.10.12"
  },
  "papermill": {
   "default_parameters": {},
   "duration": 83.147357,
   "end_time": "2023-07-19T17:59:08.440907",
   "environment_variables": {},
   "exception": null,
   "input_path": "__notebook__.ipynb",
   "output_path": "__notebook__.ipynb",
   "parameters": {},
   "start_time": "2023-07-19T17:57:45.293550",
   "version": "2.4.0"
  }
 },
 "nbformat": 4,
 "nbformat_minor": 5
}
